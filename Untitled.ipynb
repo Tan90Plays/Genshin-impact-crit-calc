{
 "cells": [
  {
   "cell_type": "code",
   "execution_count": 1,
   "id": "94d562d7",
   "metadata": {},
   "outputs": [
    {
     "name": "stderr",
     "output_type": "stream",
     "text": [
      "D:\\Anaconda\\Anaconda\\lib\\site-packages\\IPython\\core\\pylabtools.py:151: UserWarning: Glyph 20108 (\\N{CJK UNIFIED IDEOGRAPH-4E8C}) missing from current font.\n",
      "  fig.canvas.print_figure(bytes_io, **kw)\n",
      "D:\\Anaconda\\Anaconda\\lib\\site-packages\\IPython\\core\\pylabtools.py:151: UserWarning: Glyph 39033 (\\N{CJK UNIFIED IDEOGRAPH-9879}) missing from current font.\n",
      "  fig.canvas.print_figure(bytes_io, **kw)\n",
      "D:\\Anaconda\\Anaconda\\lib\\site-packages\\IPython\\core\\pylabtools.py:151: UserWarning: Glyph 20998 (\\N{CJK UNIFIED IDEOGRAPH-5206}) missing from current font.\n",
      "  fig.canvas.print_figure(bytes_io, **kw)\n",
      "D:\\Anaconda\\Anaconda\\lib\\site-packages\\IPython\\core\\pylabtools.py:151: UserWarning: Glyph 24067 (\\N{CJK UNIFIED IDEOGRAPH-5E03}) missing from current font.\n",
      "  fig.canvas.print_figure(bytes_io, **kw)\n"
     ]
    },
    {
     "data": {
      "image/png": "[encoded data removed]",
      "text/plain": [
       "<Figure size 3000x500 with 1 Axes>"
      ]
     },
     "metadata": {},
     "output_type": "display_data"
    }
   ],
   "source": [
    "import numpy as np \n",
    "import pandas as pd \n",
    "import matplotlib.pyplot as plt \n",
    "from scipy import stats\n",
    "\n",
    "y = stats.binom(100,0.8)\n",
    "x = np.arange(0,100)\n",
    "y1 = y.pmf(x)\n",
    "plt.figure(figsize=(30,5))\n",
    "plt.bar(x,y1,label=\"二项分布\")\n",
    "plt.legend()\n",
    "plt.show()"
   ]
  },
  {
   "cell_type": "code",
   "execution_count": 2,
   "id": "728cecb4",
   "metadata": {},
   "outputs": [
    {
     "data": {
      "text/plain": [
       "0.5398386299354266"
      ]
     },
     "execution_count": 2,
     "metadata": {},
     "output_type": "execute_result"
    }
   ],
   "source": [
    "stats.binom.cdf(k = 80,n = 100, p =0.8) - stats.binom.cdf(k = 0,n = 100, p =0.8)"
   ]
  },
  {
   "cell_type": "code",
   "execution_count": 34,
   "id": "6662d709",
   "metadata": {},
   "outputs": [
    {
     "name": "stdout",
     "output_type": "stream",
     "text": [
      "484.0000000000001\n",
      "496.00000000000017\n",
      "100.0\n",
      "100.0\n",
      "0.005696380955793501\n",
      "0.5831555122664929\n",
      "1.845632869687418e-26\n",
      "[ 90  91  92  93  94  95  96  97  98  99 100]\n"
     ]
    }
   ],
   "source": [
    "x = np.arange(0,201)\n",
    "crit08 = stats.binom(200,0.8)\n",
    "crit8 = crit08.pmf(x)\n",
    "crit09 = stats.binom(200,0.9)\n",
    "crit9 = crit09.pmf(x)\n",
    "\n",
    "damage08 = np.sum(crit8 * x * 2.4) + 100  #80/240\n",
    "damage09 = np.sum(crit9 * x * 2.2) + 100  #90/220\n",
    "print(damage08)\n",
    "print(damage09)\n",
    "\n",
    "chance8 = stats.binom.cdf(k = 100,n = 100, p =0.8) - stats.binom.cdf(k = 89,n = 100, p =0.8)\n",
    "chance9 = stats.binom.cdf(k = 100,n = 100, p =0.9) - stats.binom.cdf(k = 89,n = 100, p =0.9)\n",
    "damage08high = ( np.sum(crit8[90:101]/chance8 * x[90:101] * 2.4) + 100 ) \n",
    "damage09high = ( np.sum(crit9[90:101]/chance9 * x[90:101] * 2.2) + 100 ) \n",
    "print(damage08high)\n",
    "print(damage09high)\n",
    "print(chance8)\n",
    "print(chance9)\n",
    "print(np.sum(crit8[0:90] * x[0:90]))\n",
    "print(x[90:101])"
   ]
  },
  {
   "cell_type": "code",
   "execution_count": 40,
   "id": "ed3874de",
   "metadata": {},
   "outputs": [
    {
     "name": "stdout",
     "output_type": "stream",
     "text": [
      "291.99999999999994\n",
      "297.9999999999999\n",
      "80 0.5594615848733986 298.81571058989084\n",
      "81 0.46016137006457336 300.2865022940186\n",
      "82 0.3620870838336354 301.88091020487343\n",
      "83 0.2711889648878879 303.58394845477494\n",
      "84 0.19233758459760097 305.3812071003156\n",
      "85 0.12850551483879724 307.25943213760365\n",
      "86 0.08044372113805087 309.20680792732185\n",
      "87 0.04691223716078596 311.213031478752\n",
      "88 0.02532875322139705 313.26925689623147\n",
      "89 0.01257487634812171 315.367969197102\n",
      "90 0.005696380955793501 317.50282781530336\n",
      "91 0.0023335609862108475 319.6685048291042\n",
      "92 0.0008553983622184846 321.86053197054594\n",
      "93 0.00027698690065613985 324.0751632245427\n",
      "94 7.796360205414299e-05 326.3092553798582\n",
      "95 1.8680066300347242e-05 328.56016637728646\n",
      "96 3.70317305731227e-06 330.82567001265215\n",
      "97 5.829869649254249e-07 333.10388505356985\n",
      "98 6.831709409294007e-08 335.3932164224556\n",
      "99 5.296293514867045e-09 337.6923087515708\n",
      "100 2.0370360953592126e-10 339.999985976718\n",
      "85 0.9601094728889167 298.6365540708988\n",
      "86 0.9274270347351196 299.0466251002105\n",
      "87 0.8761232074006701 299.6232215762554\n",
      "88 0.8018211126404335 300.38524016015276\n",
      "89 0.7030331002887539 301.33868088502777\n",
      "90 0.5831555122664929 302.47725145729487\n",
      "91 0.45129016544200407 303.7854880674556\n",
      "92 0.3208738883628397 305.2427771215921\n",
      "93 0.20605086180401033 306.8269310051313\n",
      "94 0.11715561543588437 308.51667997370976\n",
      "95 0.05757688648703385 310.2930457532076\n",
      "96 0.023711082663476768 312.13986289076774\n",
      "97 0.007836487121184454 314.0437699635934\n",
      "98 0.00194488465188003 315.9939301972676\n",
      "99 0.00032168805319410243 317.981651376156\n",
      "100 2.6561398887570142e-05 320.00000000014415\n"
     ]
    }
   ],
   "source": [
    "x = np.arange(0,101)\n",
    "crit08 = stats.binom(100,0.8)\n",
    "crit8 = crit08.pmf(x)\n",
    "crit09 = stats.binom(100,0.9)\n",
    "crit9 = crit09.pmf(x)\n",
    "\n",
    "damage08 = np.sum(crit8 * x * 2.4) + 100  #80/240\n",
    "damage09 = np.sum(crit9 * x * 2.2) + 100  #90/220\n",
    "print(damage08)\n",
    "print(damage09)\n",
    "\n",
    "for i in range(80,101):\n",
    "    chance8 = stats.binom.cdf(k = 100,n = 100, p =0.8) - stats.binom.cdf(k = i -1,n = 100, p =0.8)\n",
    "    damage08high = ( np.sum(crit8[i:101]/chance8 * x[i:201] * 2.4) + 100 )\n",
    "    print(i,chance8,damage08high)\n",
    "\n",
    "for i in range(85,101):\n",
    "    chance9 = stats.binom.cdf(k = 100,n = 100, p =0.9) - stats.binom.cdf(k = i -1,n = 100, p =0.9)\n",
    "    damage09high = ( np.sum(crit9[i:101]/chance9 * x[i:201] * 2.2) + 100 )\n",
    "    print(i,chance9,damage09high)"
   ]
  },
  {
   "cell_type": "code",
   "execution_count": 41,
   "id": "6594503c",
   "metadata": {
    "scrolled": true
   },
   "outputs": [
    {
     "name": "stdout",
     "output_type": "stream",
     "text": [
      "484.0000000000001\n",
      "496.00000000000017\n",
      "80.0 0.5421796450494936 296.98394328867505\n",
      "80.5 0.4718100460078052 297.72728924715636\n",
      "81.0 0.4018775252210365 298.5151032688793\n",
      "81.5 0.33453509779673996 299.3434798579219\n",
      "82.0 0.2717372513642671 300.20858934166273\n",
      "82.5 0.215066024095938 301.10677371112683\n",
      "83.0 0.1656074984799416 302.0346087945935\n",
      "83.5 0.12389548892428204 302.988939175411\n",
      "84.0 0.08992642725021194 303.9668923445636\n",
      "84.5 0.06323645022058544 304.9658779310039\n",
      "85.0 0.043021556375661296 305.983576874157\n",
      "85.5 0.028276574982893043 307.0179243550049\n",
      "86.0 0.017929219619546855 308.0670893339662\n",
      "86.5 0.010950770653569197 309.12945272434695\n",
      "87.0 0.006432930860566399 310.2035855775256\n",
      "87.5 0.003628754437323245 311.28822816012035\n",
      "88.0 0.0019622724486529908 312.3822704413641\n",
      "88.5 0.0010154076823630787 313.48473425427443\n",
      "89.0 0.0005018539108160303 314.594757221914\n",
      "89.5 0.00023642162439840853 315.7115784286165\n",
      "90.0 0.00010592977409262794 316.83452574774964\n",
      "90.5 4.503357728313784e-05 317.9630047019773\n",
      "91.0 1.811813117957861e-05 319.0964887087015\n",
      "91.5 6.8787141253023876e-06 320.23451057348615\n",
      "92.0 2.456648399040695e-06 321.37665507444365\n",
      "92.5 8.224067176154648e-07 322.52255251658363\n",
      "93.0 2.5704743322751966e-07 323.67187313915093\n",
      "93.5 7.467347051814954e-08 324.82432225141696\n",
      "94.0 2.0058807947975765e-08 325.97963534269076\n",
      "94.5 4.952624643728143e-09 327.13757620974695\n",
      "95.0 1.116133629963656e-09 328.2979328515437\n",
      "95.5 2.276830946001951e-10 329.4604974079792\n",
      "96.0 4.162015176945033e-11 330.6250589543555\n",
      "96.5 6.733280599746649e-12 331.79353084854426\n",
      "97.0 9.490186414495838e-13 332.9540182196648\n",
      "97.5 1.141309269314661e-13 334.1510544225058\n",
      "98.0 1.1435297153639112e-14 334.37119179767683\n",
      "98.5 8.881784197001252e-16 341.0284380979607\n",
      "99.0 0.0 inf\n",
      "99.5 0.0 inf\n",
      "100.0 0.0 inf\n",
      "85.0 0.9904916880530268 298.12872530991785\n",
      "85.5 0.9836734340682336 298.2058631821649\n",
      "86.0 0.9729077698817181 298.31768912569436\n",
      "86.5 0.9565715003893892 298.47340046211195\n",
      "87.0 0.932775315926575 298.6819134252703\n",
      "87.5 0.8995427134871274 298.95093559646034\n",
      "88.0 0.8551059765109531 299.2861671773688\n",
      "88.5 0.7982976479902739 299.69080528929203\n",
      "89.0 0.7289722301345298 300.1654319592997\n",
      "89.5 0.648352221729255 300.7082559821939\n",
      "90.0 0.5591747822642011 301.3155983160964\n",
      "90.5 0.46553847082589694 301.98248282937675\n",
      "91.0 0.3724194870750961 302.70321276179465\n",
      "91.5 0.2849285737707721 303.471855821443\n",
      "92.0 0.2074776013374361 304.28260524341175\n",
      "92.5 0.14307543404232526 305.13001737008705\n",
      "93.0 0.09294617949910378 306.0091450125068\n",
      "93.5 0.056562043137088125 306.9155925424286\n",
      "94.0 0.032046528796906504 307.8455177956307\n",
      "94.5 0.016789533170304072 308.79560141461377\n",
      "95.0 0.008071249955102666 309.7629988838995\n",
      "95.5 0.003528565542971429 310.7452856217122\n",
      "96.0 0.0013880336210247979 311.740401626917\n",
      "96.5 0.00048499671645352294 312.74659939248386\n",
      "97.0 0.00014811248262391885 313.76239692340334\n",
      "97.5 3.8711932462631715e-05 314.786536517998\n",
      "98.0 8.416395494981188e-06 315.81794927245824\n",
      "98.5 1.4607875177263807e-06 316.85572490654135\n",
      "99.0 1.8971194826189475e-07 317.89908632207664\n",
      "99.5 1.6383461476365824e-08 318.94736854519624\n",
      "100.0 7.055078743434251e-10 320.00001138876667\n"
     ]
    },
    {
     "name": "stderr",
     "output_type": "stream",
     "text": [
      "C:\\Users\\Tan90plays\\AppData\\Local\\Temp\\ipykernel_14056\\2799712376.py:14: RuntimeWarning: divide by zero encountered in true_divide\n",
      "  damage08high = ( np.sum(crit8[i:201]/chance8 * x[i:201] * 2.4) /2 + 100 )\n"
     ]
    }
   ],
   "source": [
    "x = np.arange(0,201)\n",
    "crit08 = stats.binom(200,0.8)\n",
    "crit8 = crit08.pmf(x)\n",
    "crit09 = stats.binom(200,0.9)\n",
    "crit9 = crit09.pmf(x)\n",
    "\n",
    "damage08 = np.sum(crit8 * x * 2.4) + 100  #80/240\n",
    "damage09 = np.sum(crit9 * x * 2.2) + 100  #90/220\n",
    "print(damage08)\n",
    "print(damage09)\n",
    "\n",
    "for i in range(160,201):\n",
    "    chance8 = stats.binom.cdf(k = 200,n = 200, p =0.8) - stats.binom.cdf(k = i -1,n = 200, p =0.8)\n",
    "    damage08high = ( np.sum(crit8[i:201]/chance8 * x[i:201] * 2.4) /2 + 100 )\n",
    "    print(i/2,chance8,damage08high)\n",
    "\n",
    "for i in range(170,201):\n",
    "    chance9 = stats.binom.cdf(k = 200,n = 200, p =0.9) - stats.binom.cdf(k = i -1,n = 200, p =0.9)\n",
    "    damage09high = ( np.sum(crit9[i:201]/chance9 * x[i:201] * 2.2) /2 + 100 )\n",
    "    print(i/2,chance9,damage09high)"
   ]
  },
  {
   "cell_type": "code",
   "execution_count": 71,
   "id": "3bda4796",
   "metadata": {},
   "outputs": [
    {
     "name": "stdout",
     "output_type": "stream",
     "text": [
      "292.0\n",
      "298.0\n",
      "80.0 0.559462 298.816\n",
      "81.0 0.460161 300.287\n",
      "82.0 0.362087 301.881\n",
      "83.0 0.271189 303.584\n",
      "84.0 0.192338 305.381\n",
      "85.0 0.128506 307.259\n",
      "86.0 0.080444 309.207\n",
      "87.0 0.046912 311.213\n",
      "88.0 0.025329 313.269\n",
      "89.0 0.012575 315.368\n",
      "90.0 0.005696 317.503\n",
      "91.0 0.002334 319.669\n",
      "92.0 0.000855 321.861\n",
      "93.0 0.000277 324.075\n",
      "94.0 7.8e-05 326.309\n",
      "95.0 1.9e-05 328.56\n",
      "96.0 4e-06 330.826\n",
      "97.0 1e-06 333.104\n",
      "98.0 0.0 335.393\n",
      "99.0 0.0 337.692\n",
      "100.0 0.0 340.0\n",
      "85.0 0.960109 298.637\n",
      "86.0 0.927427 299.047\n",
      "87.0 0.876123 299.623\n",
      "88.0 0.801821 300.385\n",
      "89.0 0.703033 301.339\n",
      "90.0 0.583156 302.477\n",
      "91.0 0.45129 303.785\n",
      "92.0 0.320874 305.243\n",
      "93.0 0.206051 306.827\n",
      "94.0 0.117156 308.517\n",
      "95.0 0.057577 310.293\n",
      "96.0 0.023711 312.14\n",
      "97.0 0.007836 314.044\n",
      "98.0 0.001945 315.994\n",
      "99.0 0.000322 317.982\n",
      "100.0 2.7e-05 320.0\n"
     ]
    }
   ],
   "source": [
    "times = 100\n",
    "x = np.arange(0,times + 1)\n",
    "crit08 = stats.binom(times,0.8)\n",
    "crit8 = crit08.pmf(x)\n",
    "crit09 = stats.binom(times,0.9)\n",
    "crit9 = crit09.pmf(x)\n",
    "\n",
    "damage08 = np.sum(crit8 * x * 2.4)/times * 100 + 100  #80/240\n",
    "damage09 = np.sum(crit9 * x * 2.2)/times * 100 + 100  #90/220\n",
    "print(round(damage08,0))\n",
    "print(round(damage09,0))\n",
    "\n",
    "for i in range(int(0.8 * times) ,times + 1):\n",
    "    chance8 = stats.binom.cdf(k = times,n = times, p =0.8) - stats.binom.cdf(k = i -1,n = times, p =0.8)\n",
    "    damage08high = ( np.sum(crit8[i:times+1]/chance8 * x[i:times+1] * 2.4) /times * 100 + 100 )\n",
    "    print(round(i/times * 100,1),round(chance8,6),round(damage08high,3))\n",
    "\n",
    "for i in range(int(0.85 * times) ,times+1):\n",
    "    chance9 = stats.binom.cdf(k = times,n = times, p =0.9) - stats.binom.cdf(k = i -1,n = times, p =0.9)\n",
    "    damage09high = ( np.sum(crit9[i:times+1]/chance9 * x[i:times+1] * 2.2) /times * 100 + 100 )\n",
    "    print(round(i/times * 100,1),round(chance9,6),round(damage09high,3))"
   ]
  },
  {
   "cell_type": "code",
   "execution_count": 48,
   "id": "5280fa39",
   "metadata": {},
   "outputs": [
    {
     "name": "stdout",
     "output_type": "stream",
     "text": [
      "0.0023335609862108475\n",
      "0.45129016544200407\n"
     ]
    }
   ],
   "source": [
    "chance8 = stats.binom.cdf(k = 100,n = 100, p =0.8) - stats.binom.cdf(k = 90,n = 100, p =0.8)\n",
    "chance9 = stats.binom.cdf(k = 100,n = 100, p =0.9) - stats.binom.cdf(k = 90,n = 100, p =0.9)\n",
    "print(chance8)\n",
    "print(chance9)"
   ]
  },
  {
   "cell_type": "code",
   "execution_count": 50,
   "id": "8cb1398a",
   "metadata": {},
   "outputs": [
    {
     "name": "stdout",
     "output_type": "stream",
     "text": [
      "0.11357018170418143\n",
      "0.46016137006457336\n"
     ]
    }
   ],
   "source": [
    "chance7 = stats.binom.cdf(k = 100,n = 100, p =0.7) - stats.binom.cdf(k = 75,n = 100, p =0.7)\n",
    "chance8 = stats.binom.cdf(k = 100,n = 100, p =0.8) - stats.binom.cdf(k = 80,n = 100, p =0.8)\n",
    "print(chance7)\n",
    "print(chance8)\n"
   ]
  },
  {
   "cell_type": "code",
   "execution_count": 74,
   "id": "c2b05e67",
   "metadata": {},
   "outputs": [
    {
     "name": "stdout",
     "output_type": "stream",
     "text": [
      "164.83518673446144\n",
      "149.7039276474727\n"
     ]
    }
   ],
   "source": [
    "x = np.arange(0,101)\n",
    "crit07 = stats.binom(100,0.7)\n",
    "crit7 = crit07.pmf(x)\n",
    "crit08 = stats.binom(100,0.8)\n",
    "crit8 = crit08.pmf(x)\n",
    "\n",
    "chance7 = stats.binom.cdf(k = 100,n = 100, p =0.7) - stats.binom.cdf(k = 79,n = 100, p =0.7)\n",
    "chance8 = stats.binom.cdf(k = 100,n = 100, p =0.8) - stats.binom.cdf(k = 79,n = 100, p =0.8)\n",
    "damage07high = ( np.sum(crit7[80:101]/chance7 * x[80:101] * 0.8) + 100 ) #70/180\n",
    "damage08high = ( np.sum(crit8[80:101]/chance8 * x[80:101] * 0.6) + 100 ) #80/160\n",
    "print(damage07high)\n",
    "print(damage08high)"
   ]
  },
  {
   "cell_type": "code",
   "execution_count": 65,
   "id": "ab9e9627",
   "metadata": {
    "scrolled": true
   },
   "outputs": [
    {
     "data": {
      "text/plain": [
       "173.0"
      ]
     },
     "execution_count": 65,
     "metadata": {},
     "output_type": "execute_result"
    }
   ],
   "source": [
    "stats.binom.ppf(0.99,200,0.8)  ##伤害的把握"
   ]
  },
  {
   "cell_type": "code",
   "execution_count": 69,
   "id": "df39bd35",
   "metadata": {},
   "outputs": [
    {
     "data": {
      "text/plain": [
       "2.0"
      ]
     },
     "execution_count": 69,
     "metadata": {},
     "output_type": "execute_result"
    }
   ],
   "source": [
    "t = stats.binom.ppf(0.8,10,0.11357018170418143) ##出分的把握\n",
    "t"
   ]
  },
  {
   "cell_type": "code",
   "execution_count": 91,
   "id": "afc1e6f1",
   "metadata": {},
   "outputs": [
    {
     "data": {
      "text/plain": [
       "0.3158937476615433"
      ]
     },
     "execution_count": 91,
     "metadata": {},
     "output_type": "execute_result"
    }
   ],
   "source": [
    "stats.binom_test(1,30,0.012575) ##对次数的假设检验（n次里面至少出k次的概率）"
   ]
  },
  {
   "cell_type": "code",
   "execution_count": 26,
   "id": "c114f8a5",
   "metadata": {},
   "outputs": [],
   "source": [
    "?stats.binom"
   ]
  }
 ],
 "metadata": {
  "kernelspec": {
   "display_name": "Python 3 (ipykernel)",
   "language": "python",
   "name": "python3"
  },
  "language_info": {
   "codemirror_mode": {
    "name": "ipython",
    "version": 3
   },
   "file_extension": ".py",
   "mimetype": "text/x-python",
   "name": "python",
   "nbconvert_exporter": "python",
   "pygments_lexer": "ipython3",
   "version": "3.9.13"
  }
 },
 "nbformat": 4,
 "nbformat_minor": 5
}
