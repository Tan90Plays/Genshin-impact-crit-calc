{
 "cells": [
  {
   "cell_type": "markdown",
   "id": "f99fa1dd",
   "metadata": {},
   "source": [
    "# 基于二项分布的双爆配比分析——1：2真的是最佳配比吗？降低暴击率可以降低凹度？\n"
   ]
  },
  {
   "cell_type": "markdown",
   "id": "b42357c6",
   "metadata": {},
   "source": [
    "## 1. 从期望的角度出发，但是继续深入\n",
    "假设:可分配的总双爆词条数相同,即总和一致.而在原神的圣遗物、武器词条设计下,词条数一定,可以分配的暴击和暴伤比为1:2.由基本不等式可以得到,在连续情况下,伤害期望的最大值正是在暴击和暴伤的比为1:2时取得.这本身没有任何问题,但是,这里求得的是伤害期望.对于一次具体的深渊实战,由于攻击的次数并不是无穷大,甚至不会是一个特别大的值，一次战斗伤害的总值实际上服从一个特定的随机分布.对于一次攻击是否暴击,可以看做是一次伯努利试验,而一场战斗实际上是多次重复的伯努利试验.因此,暴击次数可以看做是符合二项分布.再结合暴击伤害值,通过程序模拟(懒得算)可以得到具体暴击次数(总伤害)的分布情况."
   ]
  },
  {
   "cell_type": "markdown",
   "id": "006bbf5d",
   "metadata": {},
   "source": [
    "## 2. 研究分布情况,怎么帮助满星深渊\n",
    "为了便于进行研究,首先抽象出一个问题的模型.这里只计算伤害的数值对于战斗的影响,排除其他因素.并且将伤害的计算简单化,且只考虑双爆因素.\n",
    "\n",
    "这里先给出一个具体的例子.加入一个面板可以达到100/200的角色(比如220分+夜兰)，那么他的伤害可以计算为100 + 1 * 200 = 300.并且由于暴击率达到了1,他的伤害不会有任何的浮动.假设用于,满星深渊的时间可以打出100次攻击,那么造成的伤害就是30000,并且这个值不会变化.\n",
    "但是,如果满星深渊所需要的伤害是30500,甚至31000,这样的角色将永远不可能达到这个要求.\n",
    "\n",
    "这里这个角色完美遵循了双爆1:2的计算结果配面板,但是却不是最佳的情况.这里如果想要打满深渊,只能采用凹分常见操作,也就是降暴击,比如90/220,来尝试达到30500的伤害量.那么,达成这个值有多困难,压更低的暴击会不会更好.在这里先举几个简单地例子引入,在下一部分进行更多的计算分析."
   ]
  },
  {
   "cell_type": "code",
   "execution_count": 1,
   "id": "94d562d7",
   "metadata": {},
   "outputs": [],
   "source": [
    "import numpy as np \n",
    "import pandas as pd \n",
    "import matplotlib.pyplot as plt \n",
    "from scipy import stats\n",
    "import seaborn as sns\n",
    "import plotly.express as px\n",
    "import plotly.graph_objects as go"
   ]
  },
  {
   "cell_type": "code",
   "execution_count": 42,
   "id": "728cecb4",
   "metadata": {},
   "outputs": [
    {
     "data": {
      "text/plain": [
       "0.11715561543588437"
      ]
     },
     "execution_count": 42,
     "metadata": {},
     "output_type": "execute_result"
    }
   ],
   "source": [
    "##达成30500伤害量，220爆伤需要94次暴击\n",
    "stats.binom.cdf(k = 100,n = 100, p =0.9) - stats.binom.cdf(k = 93,n = 100, p =0.9)\n",
    "##90暴击的角色在100次攻击中暴击94次及以上的概率"
   ]
  },
  {
   "cell_type": "code",
   "execution_count": 43,
   "id": "4e6ed5e6",
   "metadata": {},
   "outputs": [
    {
     "data": {
      "text/plain": [
       "0.08044372113805087"
      ]
     },
     "execution_count": 43,
     "metadata": {},
     "output_type": "execute_result"
    }
   ],
   "source": [
    "##达成30500伤害量，240爆伤需要86次暴击\n",
    "stats.binom.cdf(k = 100,n = 100, p =0.8) - stats.binom.cdf(k = 85,n = 100, p =0.8)\n",
    "##80暴击的角色在100次攻击中暴击86次及以上的概率"
   ]
  },
  {
   "cell_type": "code",
   "execution_count": 44,
   "id": "f967ca6b",
   "metadata": {},
   "outputs": [
    {
     "data": {
      "text/plain": [
       "0.023711082663476768"
      ]
     },
     "execution_count": 44,
     "metadata": {},
     "output_type": "execute_result"
    }
   ],
   "source": [
    "##达成31000伤害量，220爆伤需要96次暴击\n",
    "stats.binom.cdf(k = 100,n = 100, p =0.9) - stats.binom.cdf(k = 95,n = 100, p =0.9)\n",
    "##90暴击的角色在100次攻击中暴击96次及以上的概率"
   ]
  },
  {
   "cell_type": "code",
   "execution_count": 45,
   "id": "21daed01",
   "metadata": {},
   "outputs": [
    {
     "data": {
      "text/plain": [
       "0.02532875322139705"
      ]
     },
     "execution_count": 45,
     "metadata": {},
     "output_type": "execute_result"
    }
   ],
   "source": [
    "##达成31000伤害量，240爆伤需要88次暴击\n",
    "stats.binom.cdf(k = 100,n = 100, p =0.8) - stats.binom.cdf(k = 87,n = 100, p =0.8)\n",
    "##80暴击的角色在100次攻击中暴击88次及以上的概率"
   ]
  },
  {
   "cell_type": "markdown",
   "id": "e39cc96a",
   "metadata": {},
   "source": [
    "##\n",
    "\n",
    "##\n",
    "\n",
    "##\n",
    "\n",
    "##\n",
    "\n",
    "##\n",
    "\n",
    "##\n",
    "\n",
    "##\n",
    "\n",
    "##\n",
    "\n",
    "##\n",
    "\n",
    "##\n",
    "\n",
    "##\n",
    "\n",
    "##\n",
    "\n",
    "##\n",
    "\n",
    "##\n",
    "\n",
    "##\n",
    "\n",
    "##\n",
    "\n",
    "##\n",
    "\n",
    "##\n",
    "\n",
    "##\n",
    "\n",
    "##\n",
    "\n",
    "## 3. 从具体的值出发，分析双爆配比降低凹度的最佳方案\n",
    "本部分有两个目标：\n",
    "\n",
    "1.通过对代入具体数据的高双爆和低双爆的情况(由于暴击存在上限，猜测可能会出现差异).分析一下达到某个特定伤害值.在各自赛道不同暴击值的概率.在什么特定需求下,更需要降低暴击率?怎样安排双爆,可以用更高的概率打出更高的伤害？\n",
    "\n",
    "2.对于一个特定的伤害阈值和提升暴伤占比的面板,需要多少凹度才能达到要求.给定一定的凹深渊次数,有多少的把握可以凹满深渊?"
   ]
  },
  {
   "cell_type": "code",
   "execution_count": 85,
   "id": "da2edf1e",
   "metadata": {},
   "outputs": [
    {
     "name": "stdout",
     "output_type": "stream",
     "text": [
      "299.0\n",
      "296.0\n",
      "80.0 1.0 268.0 299.5\n",
      "81.0 1.0 270.1 299.5\n",
      "82.0 0.999999 272.2 299.5\n",
      "83.0 0.999998 274.3 299.5\n",
      "84.0 0.999991 276.4 299.5\n",
      "85.0 0.999963 278.5 299.501\n",
      "86.0 0.999864 280.6 299.503\n",
      "87.0 0.999537 282.7 299.509\n",
      "88.0 0.998536 284.8 299.526\n",
      "89.0 0.995726 286.9 299.568\n",
      "90.0 0.988528 289.0 299.66\n",
      "91.0 0.971812 291.1 299.843\n",
      "92.0 0.93691 293.2 300.169\n",
      "93.0 0.87204 295.3 300.687\n",
      "94.0 0.766014 297.4 301.433\n",
      "95.0 0.615999 299.5 302.415\n",
      "96.0 0.435981 301.6 303.619\n",
      "97.0 0.257839 303.7 305.013\n",
      "98.0 0.118263 305.8 306.564\n",
      "99.0 0.037081 307.9 308.235\n",
      "100.0 0.005921 310.0 310.0\n",
      "\n",
      "\n",
      "80.0 0.93368 284.0 296.689\n",
      "81.0 0.893456 286.3 297.26\n",
      "82.0 0.837175 288.6 297.997\n",
      "83.0 0.763277 290.9 298.907\n",
      "84.0 0.672463 293.2 299.988\n",
      "85.0 0.568315 295.5 301.232\n",
      "86.0 0.457224 297.8 302.625\n",
      "87.0 0.347425 300.1 304.15\n",
      "88.0 0.247302 302.4 305.79\n",
      "89.0 0.163486 304.7 307.527\n",
      "90.0 0.099447 307.0 309.348\n",
      "91.0 0.055095 309.3 311.238\n",
      "92.0 0.027476 311.6 313.187\n",
      "93.0 0.012165 313.9 315.184\n",
      "94.0 0.004702 316.2 317.221\n",
      "95.0 0.001553 318.5 319.293\n",
      "96.0 0.000426 320.8 321.393\n",
      "97.0 9.3e-05 323.1 323.517\n",
      "98.0 1.5e-05 325.4 325.662\n",
      "99.0 2e-06 327.7 327.823\n",
      "100.0 0.0 330.0 330.0\n"
     ]
    },
    {
     "data": {
      "application/vnd.plotly.v1+json": {
       "config": {
        "plotlyServerURL": "https://plot.ly"
       },
       "data": [
        {
         "name": "Data1",
         "type": "scatter",
         "x": [
          268,
          270.1,
          272.20000000000005,
          274.3,
          276.4,
          278.5,
          280.6,
          282.70000000000005,
          284.8,
          286.9,
          289,
          291.1,
          293.20000000000005,
          295.3,
          297.4,
          299.5,
          301.6,
          303.70000000000005,
          305.8,
          307.9,
          310
         ],
         "y": [
          0.9999999791893923,
          0.9999998947704658,
          0.9999994987310575,
          0.9999977551917116,
          0.9999905709693463,
          0.9999629459238224,
          0.9998641457610077,
          0.9995367266167962,
          0.9985356519919655,
          0.9957258175336341,
          0.9885275899325152,
          0.9718117058365837,
          0.936910409372551,
          0.8720395213796205,
          0.7660139840148312,
          0.6159991279561403,
          0.43598130068571117,
          0.2578386591160158,
          0.11826298118512057,
          0.037081209327355036,
          0.0059205292203340365
         ]
        },
        {
         "name": "Data2",
         "type": "scatter",
         "x": [
          284,
          286.29999999999995,
          288.6,
          290.9,
          293.2,
          295.5,
          297.79999999999995,
          300.1,
          302.4,
          304.7,
          307,
          309.29999999999995,
          311.6,
          313.9,
          316.2,
          318.5,
          320.79999999999995,
          323.1,
          325.4,
          327.7,
          330
         ],
         "y": [
          0.9336802341811183,
          0.8934557435197005,
          0.837174563170392,
          0.7632769158011781,
          0.6724629395161197,
          0.5683151651257146,
          0.45722420577595013,
          0.3474250017674618,
          0.24730158968309313,
          0.16348615759731489,
          0.09944740049806855,
          0.05509463169229434,
          0.027475691410310366,
          0.01216519190616705,
          0.0047020093521760176,
          0.0015526521751373368,
          0.00042551381703925806,
          9.285145440607323e-05,
          1.5115919495323205e-05,
          1.6311838475502327e-06,
          8.74767362990525e-08
         ]
        }
       ],
       "layout": {
        "template": {
         "data": {
          "bar": [
           {
            "error_x": {
             "color": "#2a3f5f"
            },
            "error_y": {
             "color": "#2a3f5f"
            },
            "marker": {
             "line": {
              "color": "#E5ECF6",
              "width": 0.5
             },
             "pattern": {
              "fillmode": "overlay",
              "size": 10,
              "solidity": 0.2
             }
            },
            "type": "bar"
           }
          ],
          "barpolar": [
           {
            "marker": {
             "line": {
              "color": "#E5ECF6",
              "width": 0.5
             },
             "pattern": {
              "fillmode": "overlay",
              "size": 10,
              "solidity": 0.2
             }
            },
            "type": "barpolar"
           }
          ],
          "carpet": [
           {
            "aaxis": {
             "endlinecolor": "#2a3f5f",
             "gridcolor": "white",
             "linecolor": "white",
             "minorgridcolor": "white",
             "startlinecolor": "#2a3f5f"
            },
            "baxis": {
             "endlinecolor": "#2a3f5f",
             "gridcolor": "white",
             "linecolor": "white",
             "minorgridcolor": "white",
             "startlinecolor": "#2a3f5f"
            },
            "type": "carpet"
           }
          ],
          "choropleth": [
           {
            "colorbar": {
             "outlinewidth": 0,
             "ticks": ""
            },
            "type": "choropleth"
           }
          ],
          "contour": [
           {
            "colorbar": {
             "outlinewidth": 0,
             "ticks": ""
            },
            "colorscale": [
             [
              0,
              "#0d0887"
             ],
             [
              0.1111111111111111,
              "#46039f"
             ],
             [
              0.2222222222222222,
              "#7201a8"
             ],
             [
              0.3333333333333333,
              "#9c179e"
             ],
             [
              0.4444444444444444,
              "#bd3786"
             ],
             [
              0.5555555555555556,
              "#d8576b"
             ],
             [
              0.6666666666666666,
              "#ed7953"
             ],
             [
              0.7777777777777778,
              "#fb9f3a"
             ],
             [
              0.8888888888888888,
              "#fdca26"
             ],
             [
              1,
              "#f0f921"
             ]
            ],
            "type": "contour"
           }
          ],
          "contourcarpet": [
           {
            "colorbar": {
             "outlinewidth": 0,
             "ticks": ""
            },
            "type": "contourcarpet"
           }
          ],
          "heatmap": [
           {
            "colorbar": {
             "outlinewidth": 0,
             "ticks": ""
            },
            "colorscale": [
             [
              0,
              "#0d0887"
             ],
             [
              0.1111111111111111,
              "#46039f"
             ],
             [
              0.2222222222222222,
              "#7201a8"
             ],
             [
              0.3333333333333333,
              "#9c179e"
             ],
             [
              0.4444444444444444,
              "#bd3786"
             ],
             [
              0.5555555555555556,
              "#d8576b"
             ],
             [
              0.6666666666666666,
              "#ed7953"
             ],
             [
              0.7777777777777778,
              "#fb9f3a"
             ],
             [
              0.8888888888888888,
              "#fdca26"
             ],
             [
              1,
              "#f0f921"
             ]
            ],
            "type": "heatmap"
           }
          ],
          "heatmapgl": [
           {
            "colorbar": {
             "outlinewidth": 0,
             "ticks": ""
            },
            "colorscale": [
             [
              0,
              "#0d0887"
             ],
             [
              0.1111111111111111,
              "#46039f"
             ],
             [
              0.2222222222222222,
              "#7201a8"
             ],
             [
              0.3333333333333333,
              "#9c179e"
             ],
             [
              0.4444444444444444,
              "#bd3786"
             ],
             [
              0.5555555555555556,
              "#d8576b"
             ],
             [
              0.6666666666666666,
              "#ed7953"
             ],
             [
              0.7777777777777778,
              "#fb9f3a"
             ],
             [
              0.8888888888888888,
              "#fdca26"
             ],
             [
              1,
              "#f0f921"
             ]
            ],
            "type": "heatmapgl"
           }
          ],
          "histogram": [
           {
            "marker": {
             "pattern": {
              "fillmode": "overlay",
              "size": 10,
              "solidity": 0.2
             }
            },
            "type": "histogram"
           }
          ],
          "histogram2d": [
           {
            "colorbar": {
             "outlinewidth": 0,
             "ticks": ""
            },
            "colorscale": [
             [
              0,
              "#0d0887"
             ],
             [
              0.1111111111111111,
              "#46039f"
             ],
             [
              0.2222222222222222,
              "#7201a8"
             ],
             [
              0.3333333333333333,
              "#9c179e"
             ],
             [
              0.4444444444444444,
              "#bd3786"
             ],
             [
              0.5555555555555556,
              "#d8576b"
             ],
             [
              0.6666666666666666,
              "#ed7953"
             ],
             [
              0.7777777777777778,
              "#fb9f3a"
             ],
             [
              0.8888888888888888,
              "#fdca26"
             ],
             [
              1,
              "#f0f921"
             ]
            ],
            "type": "histogram2d"
           }
          ],
          "histogram2dcontour": [
           {
            "colorbar": {
             "outlinewidth": 0,
             "ticks": ""
            },
            "colorscale": [
             [
              0,
              "#0d0887"
             ],
             [
              0.1111111111111111,
              "#46039f"
             ],
             [
              0.2222222222222222,
              "#7201a8"
             ],
             [
              0.3333333333333333,
              "#9c179e"
             ],
             [
              0.4444444444444444,
              "#bd3786"
             ],
             [
              0.5555555555555556,
              "#d8576b"
             ],
             [
              0.6666666666666666,
              "#ed7953"
             ],
             [
              0.7777777777777778,
              "#fb9f3a"
             ],
             [
              0.8888888888888888,
              "#fdca26"
             ],
             [
              1,
              "#f0f921"
             ]
            ],
            "type": "histogram2dcontour"
           }
          ],
          "mesh3d": [
           {
            "colorbar": {
             "outlinewidth": 0,
             "ticks": ""
            },
            "type": "mesh3d"
           }
          ],
          "parcoords": [
           {
            "line": {
             "colorbar": {
              "outlinewidth": 0,
              "ticks": ""
             }
            },
            "type": "parcoords"
           }
          ],
          "pie": [
           {
            "automargin": true,
            "type": "pie"
           }
          ],
          "scatter": [
           {
            "fillpattern": {
             "fillmode": "overlay",
             "size": 10,
             "solidity": 0.2
            },
            "type": "scatter"
           }
          ],
          "scatter3d": [
           {
            "line": {
             "colorbar": {
              "outlinewidth": 0,
              "ticks": ""
             }
            },
            "marker": {
             "colorbar": {
              "outlinewidth": 0,
              "ticks": ""
             }
            },
            "type": "scatter3d"
           }
          ],
          "scattercarpet": [
           {
            "marker": {
             "colorbar": {
              "outlinewidth": 0,
              "ticks": ""
             }
            },
            "type": "scattercarpet"
           }
          ],
          "scattergeo": [
           {
            "marker": {
             "colorbar": {
              "outlinewidth": 0,
              "ticks": ""
             }
            },
            "type": "scattergeo"
           }
          ],
          "scattergl": [
           {
            "marker": {
             "colorbar": {
              "outlinewidth": 0,
              "ticks": ""
             }
            },
            "type": "scattergl"
           }
          ],
          "scattermapbox": [
           {
            "marker": {
             "colorbar": {
              "outlinewidth": 0,
              "ticks": ""
             }
            },
            "type": "scattermapbox"
           }
          ],
          "scatterpolar": [
           {
            "marker": {
             "colorbar": {
              "outlinewidth": 0,
              "ticks": ""
             }
            },
            "type": "scatterpolar"
           }
          ],
          "scatterpolargl": [
           {
            "marker": {
             "colorbar": {
              "outlinewidth": 0,
              "ticks": ""
             }
            },
            "type": "scatterpolargl"
           }
          ],
          "scatterternary": [
           {
            "marker": {
             "colorbar": {
              "outlinewidth": 0,
              "ticks": ""
             }
            },
            "type": "scatterternary"
           }
          ],
          "surface": [
           {
            "colorbar": {
             "outlinewidth": 0,
             "ticks": ""
            },
            "colorscale": [
             [
              0,
              "#0d0887"
             ],
             [
              0.1111111111111111,
              "#46039f"
             ],
             [
              0.2222222222222222,
              "#7201a8"
             ],
             [
              0.3333333333333333,
              "#9c179e"
             ],
             [
              0.4444444444444444,
              "#bd3786"
             ],
             [
              0.5555555555555556,
              "#d8576b"
             ],
             [
              0.6666666666666666,
              "#ed7953"
             ],
             [
              0.7777777777777778,
              "#fb9f3a"
             ],
             [
              0.8888888888888888,
              "#fdca26"
             ],
             [
              1,
              "#f0f921"
             ]
            ],
            "type": "surface"
           }
          ],
          "table": [
           {
            "cells": {
             "fill": {
              "color": "#EBF0F8"
             },
             "line": {
              "color": "white"
             }
            },
            "header": {
             "fill": {
              "color": "#C8D4E3"
             },
             "line": {
              "color": "white"
             }
            },
            "type": "table"
           }
          ]
         },
         "layout": {
          "annotationdefaults": {
           "arrowcolor": "#2a3f5f",
           "arrowhead": 0,
           "arrowwidth": 1
          },
          "autotypenumbers": "strict",
          "coloraxis": {
           "colorbar": {
            "outlinewidth": 0,
            "ticks": ""
           }
          },
          "colorscale": {
           "diverging": [
            [
             0,
             "#8e0152"
            ],
            [
             0.1,
             "#c51b7d"
            ],
            [
             0.2,
             "#de77ae"
            ],
            [
             0.3,
             "#f1b6da"
            ],
            [
             0.4,
             "#fde0ef"
            ],
            [
             0.5,
             "#f7f7f7"
            ],
            [
             0.6,
             "#e6f5d0"
            ],
            [
             0.7,
             "#b8e186"
            ],
            [
             0.8,
             "#7fbc41"
            ],
            [
             0.9,
             "#4d9221"
            ],
            [
             1,
             "#276419"
            ]
           ],
           "sequential": [
            [
             0,
             "#0d0887"
            ],
            [
             0.1111111111111111,
             "#46039f"
            ],
            [
             0.2222222222222222,
             "#7201a8"
            ],
            [
             0.3333333333333333,
             "#9c179e"
            ],
            [
             0.4444444444444444,
             "#bd3786"
            ],
            [
             0.5555555555555556,
             "#d8576b"
            ],
            [
             0.6666666666666666,
             "#ed7953"
            ],
            [
             0.7777777777777778,
             "#fb9f3a"
            ],
            [
             0.8888888888888888,
             "#fdca26"
            ],
            [
             1,
             "#f0f921"
            ]
           ],
           "sequentialminus": [
            [
             0,
             "#0d0887"
            ],
            [
             0.1111111111111111,
             "#46039f"
            ],
            [
             0.2222222222222222,
             "#7201a8"
            ],
            [
             0.3333333333333333,
             "#9c179e"
            ],
            [
             0.4444444444444444,
             "#bd3786"
            ],
            [
             0.5555555555555556,
             "#d8576b"
            ],
            [
             0.6666666666666666,
             "#ed7953"
            ],
            [
             0.7777777777777778,
             "#fb9f3a"
            ],
            [
             0.8888888888888888,
             "#fdca26"
            ],
            [
             1,
             "#f0f921"
            ]
           ]
          },
          "colorway": [
           "#636efa",
           "#EF553B",
           "#00cc96",
           "#ab63fa",
           "#FFA15A",
           "#19d3f3",
           "#FF6692",
           "#B6E880",
           "#FF97FF",
           "#FECB52"
          ],
          "font": {
           "color": "#2a3f5f"
          },
          "geo": {
           "bgcolor": "white",
           "lakecolor": "white",
           "landcolor": "#E5ECF6",
           "showlakes": true,
           "showland": true,
           "subunitcolor": "white"
          },
          "hoverlabel": {
           "align": "left"
          },
          "hovermode": "closest",
          "mapbox": {
           "style": "light"
          },
          "paper_bgcolor": "white",
          "plot_bgcolor": "#E5ECF6",
          "polar": {
           "angularaxis": {
            "gridcolor": "white",
            "linecolor": "white",
            "ticks": ""
           },
           "bgcolor": "#E5ECF6",
           "radialaxis": {
            "gridcolor": "white",
            "linecolor": "white",
            "ticks": ""
           }
          },
          "scene": {
           "xaxis": {
            "backgroundcolor": "#E5ECF6",
            "gridcolor": "white",
            "gridwidth": 2,
            "linecolor": "white",
            "showbackground": true,
            "ticks": "",
            "zerolinecolor": "white"
           },
           "yaxis": {
            "backgroundcolor": "#E5ECF6",
            "gridcolor": "white",
            "gridwidth": 2,
            "linecolor": "white",
            "showbackground": true,
            "ticks": "",
            "zerolinecolor": "white"
           },
           "zaxis": {
            "backgroundcolor": "#E5ECF6",
            "gridcolor": "white",
            "gridwidth": 2,
            "linecolor": "white",
            "showbackground": true,
            "ticks": "",
            "zerolinecolor": "white"
           }
          },
          "shapedefaults": {
           "line": {
            "color": "#2a3f5f"
           }
          },
          "ternary": {
           "aaxis": {
            "gridcolor": "white",
            "linecolor": "white",
            "ticks": ""
           },
           "baxis": {
            "gridcolor": "white",
            "linecolor": "white",
            "ticks": ""
           },
           "bgcolor": "#E5ECF6",
           "caxis": {
            "gridcolor": "white",
            "linecolor": "white",
            "ticks": ""
           }
          },
          "title": {
           "x": 0.05
          },
          "xaxis": {
           "automargin": true,
           "gridcolor": "white",
           "linecolor": "white",
           "ticks": "",
           "title": {
            "standoff": 15
           },
           "zerolinecolor": "white",
           "zerolinewidth": 2
          },
          "yaxis": {
           "automargin": true,
           "gridcolor": "white",
           "linecolor": "white",
           "ticks": "",
           "title": {
            "standoff": 15
           },
           "zerolinecolor": "white",
           "zerolinewidth": 2
          }
         }
        },
        "title": {
         "text": "Probability vs Damage plot"
        },
        "xaxis": {
         "title": {
          "text": "Damage"
         }
        },
        "yaxis": {
         "title": {
          "text": "Probability"
         }
        }
       }
      },
      "text/html": [
       "<div>                            <div id=\"e2c53105-a299-4d50-ac51-5f324b5e7c40\" class=\"plotly-graph-div\" style=\"height:525px; width:100%;\"></div>            <script type=\"text/javascript\">                require([\"plotly\"], function(Plotly) {                    window.PLOTLYENV=window.PLOTLYENV || {};                                    if (document.getElementById(\"e2c53105-a299-4d50-ac51-5f324b5e7c40\")) {                    Plotly.newPlot(                        \"e2c53105-a299-4d50-ac51-5f324b5e7c40\",                        [{\"name\":\"Data1\",\"x\":[268.0,270.1,272.20000000000005,274.3,276.4,278.5,280.6,282.70000000000005,284.8,286.9,289.0,291.1,293.20000000000005,295.3,297.4,299.5,301.6,303.70000000000005,305.8,307.9,310.0],\"y\":[0.9999999791893923,0.9999998947704658,0.9999994987310575,0.9999977551917116,0.9999905709693463,0.9999629459238224,0.9998641457610077,0.9995367266167962,0.9985356519919655,0.9957258175336341,0.9885275899325152,0.9718117058365837,0.936910409372551,0.8720395213796205,0.7660139840148312,0.6159991279561403,0.43598130068571117,0.2578386591160158,0.11826298118512057,0.037081209327355036,0.0059205292203340365],\"type\":\"scatter\"},{\"name\":\"Data2\",\"x\":[284.0,286.29999999999995,288.6,290.9,293.2,295.5,297.79999999999995,300.1,302.4,304.7,307.0,309.29999999999995,311.6,313.9,316.2,318.5,320.79999999999995,323.1,325.4,327.7,330.0],\"y\":[0.9336802341811183,0.8934557435197005,0.837174563170392,0.7632769158011781,0.6724629395161197,0.5683151651257146,0.45722420577595013,0.3474250017674618,0.24730158968309313,0.16348615759731489,0.09944740049806855,0.05509463169229434,0.027475691410310366,0.01216519190616705,0.0047020093521760176,0.0015526521751373368,0.00042551381703925806,9.285145440607323e-05,1.5115919495323205e-05,1.6311838475502327e-06,8.74767362990525e-08],\"type\":\"scatter\"}],                        {\"template\":{\"data\":{\"histogram2dcontour\":[{\"type\":\"histogram2dcontour\",\"colorbar\":{\"outlinewidth\":0,\"ticks\":\"\"},\"colorscale\":[[0.0,\"#0d0887\"],[0.1111111111111111,\"#46039f\"],[0.2222222222222222,\"#7201a8\"],[0.3333333333333333,\"#9c179e\"],[0.4444444444444444,\"#bd3786\"],[0.5555555555555556,\"#d8576b\"],[0.6666666666666666,\"#ed7953\"],[0.7777777777777778,\"#fb9f3a\"],[0.8888888888888888,\"#fdca26\"],[1.0,\"#f0f921\"]]}],\"choropleth\":[{\"type\":\"choropleth\",\"colorbar\":{\"outlinewidth\":0,\"ticks\":\"\"}}],\"histogram2d\":[{\"type\":\"histogram2d\",\"colorbar\":{\"outlinewidth\":0,\"ticks\":\"\"},\"colorscale\":[[0.0,\"#0d0887\"],[0.1111111111111111,\"#46039f\"],[0.2222222222222222,\"#7201a8\"],[0.3333333333333333,\"#9c179e\"],[0.4444444444444444,\"#bd3786\"],[0.5555555555555556,\"#d8576b\"],[0.6666666666666666,\"#ed7953\"],[0.7777777777777778,\"#fb9f3a\"],[0.8888888888888888,\"#fdca26\"],[1.0,\"#f0f921\"]]}],\"heatmap\":[{\"type\":\"heatmap\",\"colorbar\":{\"outlinewidth\":0,\"ticks\":\"\"},\"colorscale\":[[0.0,\"#0d0887\"],[0.1111111111111111,\"#46039f\"],[0.2222222222222222,\"#7201a8\"],[0.3333333333333333,\"#9c179e\"],[0.4444444444444444,\"#bd3786\"],[0.5555555555555556,\"#d8576b\"],[0.6666666666666666,\"#ed7953\"],[0.7777777777777778,\"#fb9f3a\"],[0.8888888888888888,\"#fdca26\"],[1.0,\"#f0f921\"]]}],\"heatmapgl\":[{\"type\":\"heatmapgl\",\"colorbar\":{\"outlinewidth\":0,\"ticks\":\"\"},\"colorscale\":[[0.0,\"#0d0887\"],[0.1111111111111111,\"#46039f\"],[0.2222222222222222,\"#7201a8\"],[0.3333333333333333,\"#9c179e\"],[0.4444444444444444,\"#bd3786\"],[0.5555555555555556,\"#d8576b\"],[0.6666666666666666,\"#ed7953\"],[0.7777777777777778,\"#fb9f3a\"],[0.8888888888888888,\"#fdca26\"],[1.0,\"#f0f921\"]]}],\"contourcarpet\":[{\"type\":\"contourcarpet\",\"colorbar\":{\"outlinewidth\":0,\"ticks\":\"\"}}],\"contour\":[{\"type\":\"contour\",\"colorbar\":{\"outlinewidth\":0,\"ticks\":\"\"},\"colorscale\":[[0.0,\"#0d0887\"],[0.1111111111111111,\"#46039f\"],[0.2222222222222222,\"#7201a8\"],[0.3333333333333333,\"#9c179e\"],[0.4444444444444444,\"#bd3786\"],[0.5555555555555556,\"#d8576b\"],[0.6666666666666666,\"#ed7953\"],[0.7777777777777778,\"#fb9f3a\"],[0.8888888888888888,\"#fdca26\"],[1.0,\"#f0f921\"]]}],\"surface\":[{\"type\":\"surface\",\"colorbar\":{\"outlinewidth\":0,\"ticks\":\"\"},\"colorscale\":[[0.0,\"#0d0887\"],[0.1111111111111111,\"#46039f\"],[0.2222222222222222,\"#7201a8\"],[0.3333333333333333,\"#9c179e\"],[0.4444444444444444,\"#bd3786\"],[0.5555555555555556,\"#d8576b\"],[0.6666666666666666,\"#ed7953\"],[0.7777777777777778,\"#fb9f3a\"],[0.8888888888888888,\"#fdca26\"],[1.0,\"#f0f921\"]]}],\"mesh3d\":[{\"type\":\"mesh3d\",\"colorbar\":{\"outlinewidth\":0,\"ticks\":\"\"}}],\"scatter\":[{\"fillpattern\":{\"fillmode\":\"overlay\",\"size\":10,\"solidity\":0.2},\"type\":\"scatter\"}],\"parcoords\":[{\"type\":\"parcoords\",\"line\":{\"colorbar\":{\"outlinewidth\":0,\"ticks\":\"\"}}}],\"scatterpolargl\":[{\"type\":\"scatterpolargl\",\"marker\":{\"colorbar\":{\"outlinewidth\":0,\"ticks\":\"\"}}}],\"bar\":[{\"error_x\":{\"color\":\"#2a3f5f\"},\"error_y\":{\"color\":\"#2a3f5f\"},\"marker\":{\"line\":{\"color\":\"#E5ECF6\",\"width\":0.5},\"pattern\":{\"fillmode\":\"overlay\",\"size\":10,\"solidity\":0.2}},\"type\":\"bar\"}],\"scattergeo\":[{\"type\":\"scattergeo\",\"marker\":{\"colorbar\":{\"outlinewidth\":0,\"ticks\":\"\"}}}],\"scatterpolar\":[{\"type\":\"scatterpolar\",\"marker\":{\"colorbar\":{\"outlinewidth\":0,\"ticks\":\"\"}}}],\"histogram\":[{\"marker\":{\"pattern\":{\"fillmode\":\"overlay\",\"size\":10,\"solidity\":0.2}},\"type\":\"histogram\"}],\"scattergl\":[{\"type\":\"scattergl\",\"marker\":{\"colorbar\":{\"outlinewidth\":0,\"ticks\":\"\"}}}],\"scatter3d\":[{\"type\":\"scatter3d\",\"line\":{\"colorbar\":{\"outlinewidth\":0,\"ticks\":\"\"}},\"marker\":{\"colorbar\":{\"outlinewidth\":0,\"ticks\":\"\"}}}],\"scattermapbox\":[{\"type\":\"scattermapbox\",\"marker\":{\"colorbar\":{\"outlinewidth\":0,\"ticks\":\"\"}}}],\"scatterternary\":[{\"type\":\"scatterternary\",\"marker\":{\"colorbar\":{\"outlinewidth\":0,\"ticks\":\"\"}}}],\"scattercarpet\":[{\"type\":\"scattercarpet\",\"marker\":{\"colorbar\":{\"outlinewidth\":0,\"ticks\":\"\"}}}],\"carpet\":[{\"aaxis\":{\"endlinecolor\":\"#2a3f5f\",\"gridcolor\":\"white\",\"linecolor\":\"white\",\"minorgridcolor\":\"white\",\"startlinecolor\":\"#2a3f5f\"},\"baxis\":{\"endlinecolor\":\"#2a3f5f\",\"gridcolor\":\"white\",\"linecolor\":\"white\",\"minorgridcolor\":\"white\",\"startlinecolor\":\"#2a3f5f\"},\"type\":\"carpet\"}],\"table\":[{\"cells\":{\"fill\":{\"color\":\"#EBF0F8\"},\"line\":{\"color\":\"white\"}},\"header\":{\"fill\":{\"color\":\"#C8D4E3\"},\"line\":{\"color\":\"white\"}},\"type\":\"table\"}],\"barpolar\":[{\"marker\":{\"line\":{\"color\":\"#E5ECF6\",\"width\":0.5},\"pattern\":{\"fillmode\":\"overlay\",\"size\":10,\"solidity\":0.2}},\"type\":\"barpolar\"}],\"pie\":[{\"automargin\":true,\"type\":\"pie\"}]},\"layout\":{\"autotypenumbers\":\"strict\",\"colorway\":[\"#636efa\",\"#EF553B\",\"#00cc96\",\"#ab63fa\",\"#FFA15A\",\"#19d3f3\",\"#FF6692\",\"#B6E880\",\"#FF97FF\",\"#FECB52\"],\"font\":{\"color\":\"#2a3f5f\"},\"hovermode\":\"closest\",\"hoverlabel\":{\"align\":\"left\"},\"paper_bgcolor\":\"white\",\"plot_bgcolor\":\"#E5ECF6\",\"polar\":{\"bgcolor\":\"#E5ECF6\",\"angularaxis\":{\"gridcolor\":\"white\",\"linecolor\":\"white\",\"ticks\":\"\"},\"radialaxis\":{\"gridcolor\":\"white\",\"linecolor\":\"white\",\"ticks\":\"\"}},\"ternary\":{\"bgcolor\":\"#E5ECF6\",\"aaxis\":{\"gridcolor\":\"white\",\"linecolor\":\"white\",\"ticks\":\"\"},\"baxis\":{\"gridcolor\":\"white\",\"linecolor\":\"white\",\"ticks\":\"\"},\"caxis\":{\"gridcolor\":\"white\",\"linecolor\":\"white\",\"ticks\":\"\"}},\"coloraxis\":{\"colorbar\":{\"outlinewidth\":0,\"ticks\":\"\"}},\"colorscale\":{\"sequential\":[[0.0,\"#0d0887\"],[0.1111111111111111,\"#46039f\"],[0.2222222222222222,\"#7201a8\"],[0.3333333333333333,\"#9c179e\"],[0.4444444444444444,\"#bd3786\"],[0.5555555555555556,\"#d8576b\"],[0.6666666666666666,\"#ed7953\"],[0.7777777777777778,\"#fb9f3a\"],[0.8888888888888888,\"#fdca26\"],[1.0,\"#f0f921\"]],\"sequentialminus\":[[0.0,\"#0d0887\"],[0.1111111111111111,\"#46039f\"],[0.2222222222222222,\"#7201a8\"],[0.3333333333333333,\"#9c179e\"],[0.4444444444444444,\"#bd3786\"],[0.5555555555555556,\"#d8576b\"],[0.6666666666666666,\"#ed7953\"],[0.7777777777777778,\"#fb9f3a\"],[0.8888888888888888,\"#fdca26\"],[1.0,\"#f0f921\"]],\"diverging\":[[0,\"#8e0152\"],[0.1,\"#c51b7d\"],[0.2,\"#de77ae\"],[0.3,\"#f1b6da\"],[0.4,\"#fde0ef\"],[0.5,\"#f7f7f7\"],[0.6,\"#e6f5d0\"],[0.7,\"#b8e186\"],[0.8,\"#7fbc41\"],[0.9,\"#4d9221\"],[1,\"#276419\"]]},\"xaxis\":{\"gridcolor\":\"white\",\"linecolor\":\"white\",\"ticks\":\"\",\"title\":{\"standoff\":15},\"zerolinecolor\":\"white\",\"automargin\":true,\"zerolinewidth\":2},\"yaxis\":{\"gridcolor\":\"white\",\"linecolor\":\"white\",\"ticks\":\"\",\"title\":{\"standoff\":15},\"zerolinecolor\":\"white\",\"automargin\":true,\"zerolinewidth\":2},\"scene\":{\"xaxis\":{\"backgroundcolor\":\"#E5ECF6\",\"gridcolor\":\"white\",\"linecolor\":\"white\",\"showbackground\":true,\"ticks\":\"\",\"zerolinecolor\":\"white\",\"gridwidth\":2},\"yaxis\":{\"backgroundcolor\":\"#E5ECF6\",\"gridcolor\":\"white\",\"linecolor\":\"white\",\"showbackground\":true,\"ticks\":\"\",\"zerolinecolor\":\"white\",\"gridwidth\":2},\"zaxis\":{\"backgroundcolor\":\"#E5ECF6\",\"gridcolor\":\"white\",\"linecolor\":\"white\",\"showbackground\":true,\"ticks\":\"\",\"zerolinecolor\":\"white\",\"gridwidth\":2}},\"shapedefaults\":{\"line\":{\"color\":\"#2a3f5f\"}},\"annotationdefaults\":{\"arrowcolor\":\"#2a3f5f\",\"arrowhead\":0,\"arrowwidth\":1},\"geo\":{\"bgcolor\":\"white\",\"landcolor\":\"#E5ECF6\",\"subunitcolor\":\"white\",\"showland\":true,\"showlakes\":true,\"lakecolor\":\"white\"},\"title\":{\"x\":0.05},\"mapbox\":{\"style\":\"light\"}}},\"title\":{\"text\":\"Probability vs Damage plot\"},\"xaxis\":{\"title\":{\"text\":\"Damage\"}},\"yaxis\":{\"title\":{\"text\":\"Probability\"}}},                        {\"responsive\": true}                    ).then(function(){\n",
       "                            \n",
       "var gd = document.getElementById('e2c53105-a299-4d50-ac51-5f324b5e7c40');\n",
       "var x = new MutationObserver(function (mutations, observer) {{\n",
       "        var display = window.getComputedStyle(gd).display;\n",
       "        if (!display || display === 'none') {{\n",
       "            console.log([gd, 'removed!']);\n",
       "            Plotly.purge(gd);\n",
       "            observer.disconnect();\n",
       "        }}\n",
       "}});\n",
       "\n",
       "// Listen for the removal of the full notebook cells\n",
       "var notebookContainer = gd.closest('#notebook-container');\n",
       "if (notebookContainer) {{\n",
       "    x.observe(notebookContainer, {childList: true});\n",
       "}}\n",
       "\n",
       "// Listen for the clearing of the current output cell\n",
       "var outputEl = gd.closest('.output');\n",
       "if (outputEl) {{\n",
       "    x.observe(outputEl, {childList: true});\n",
       "}}\n",
       "\n",
       "                        })                };                });            </script>        </div>"
      ]
     },
     "metadata": {},
     "output_type": "display_data"
    }
   ],
   "source": [
    "############################################################################\n",
    "#times = 攻击次数\n",
    "#CritRate 1/2 = 第一/二组暴击率 （e.g:0.5/0.6)\n",
    "#CritDamage 1/2 = 第一/二组暴击伤害(e.g:150/180)\n",
    "#range1/2_h = 第一/二组起始暴击占比\n",
    "#range1/2_t = 第一/二组终止暴击占比\n",
    "#输出格式：实际暴击率 达到此暴击率及以上的几率 达到此暴击率以上时的期望伤害\n",
    "############################################################################\n",
    "\n",
    "times = 100\n",
    "CritRate1 = 0.95\n",
    "CritRate2 = 0.85\n",
    "CritDamage1 = 210\n",
    "CritDamage2 = 230\n",
    "range1_h = 0.8\n",
    "range1_t = 1\n",
    "range2_h = 0.8\n",
    "range2_t =1\n",
    "CritDamage1 = CritDamage1 / 100\n",
    "CritDamage2 = CritDamage2 / 100\n",
    "\n",
    "x = np.arange(0,times + 1)\n",
    "crit01 = stats.binom(times,CritRate1)\n",
    "crit1 = crit01.pmf(x)\n",
    "crit02 = stats.binom(times,CritRate2)\n",
    "crit2 = crit02.pmf(x)\n",
    "\n",
    "damage01 = np.sum(crit1 * x * CritDamage1)/times * 100 + 100  \n",
    "damage02 = np.sum(crit2 * x * CritDamage2)/times * 100 + 100  \n",
    "print(round(damage01,0))\n",
    "print(round(damage02,0))\n",
    "\n",
    "damageG1 = []\n",
    "damageG2 = []\n",
    "chanceG1 = []\n",
    "chanceG2 = []\n",
    "for i in range(int(range1_h * times) ,int(range1_t * times) + 1):\n",
    "    chance1 = stats.binom.cdf(k = times,n = times, p =CritRate1) - stats.binom.cdf(k = i -1,n = times, p =CritRate1)\n",
    "    damage01high = ( np.sum(crit1[i:times+1]/chance1 * x[i:times+1] * CritDamage1) /times * 100 + 100 )\n",
    "    damage1 = 100 + i /times * 100 * CritDamage1\n",
    "    print(round(i/times * 100,1),round(chance1,6),round(damage1,3),round(damage01high,3))\n",
    "    damageG1.append(damage1)\n",
    "    chanceG1.append(chance1)\n",
    "print('\\n')\n",
    "\n",
    "for i in range(int(range2_h * times) ,int(range2_t * times) + 1):\n",
    "    chance2 = stats.binom.cdf(k = times,n = times, p =CritRate2 ) - stats.binom.cdf(k = i -1,n = times, p =CritRate2 )\n",
    "    damage02high = ( np.sum(crit2[i:times+1]/chance2 * x[i:times+1] * CritDamage2) /times * 100 + 100 )\n",
    "    damage2 = 100 + i /times * 100 * CritDamage2\n",
    "    print(round(i/times * 100,1),round(chance2,6),round(damage2,3),round(damage02high,3))\n",
    "    damageG2.append(damage2)\n",
    "    chanceG2.append(chance2)\n",
    "    \n",
    "line1 = go.Scatter(x = damageG1, y = chanceG1, name = 'Data1')\n",
    "line2 = go.Scatter(x = damageG2, y = chanceG2, name = 'Data2')\n",
    "fig = go.Figure([line1, line2])\n",
    "fig.update_layout(\n",
    "    title = \"Probability vs Damage plot\",\n",
    "    xaxis_title = \"Damage\",\n",
    "    yaxis_title = \"Probability\"\n",
    ")\n",
    "fig.show()"
   ]
  },
  {
   "cell_type": "code",
   "execution_count": 67,
   "id": "afc1e6f1",
   "metadata": {},
   "outputs": [
    {
     "data": {
      "text/plain": [
       "0.03769972074026291"
      ]
     },
     "execution_count": 67,
     "metadata": {},
     "output_type": "execute_result"
    }
   ],
   "source": [
    "stats.binom_test(4,50,0.025329) ##对次数的假设检验"
   ]
  },
  {
   "cell_type": "code",
   "execution_count": 77,
   "id": "ab9e9627",
   "metadata": {
    "scrolled": false
   },
   "outputs": [
    {
     "data": {
      "text/plain": [
       "1.0"
      ]
     },
     "execution_count": 77,
     "metadata": {},
     "output_type": "execute_result"
    }
   ],
   "source": [
    "stats.binom.ppf(0.01,166,0.027476)  ##暴击次数在一定范围内的把握 ##也可用作出分次数在一定范围内的把握"
   ]
  },
  {
   "cell_type": "code",
   "execution_count": 80,
   "id": "b56de79c",
   "metadata": {},
   "outputs": [
    {
     "data": {
      "text/plain": [
       "1.0"
      ]
     },
     "execution_count": 80,
     "metadata": {},
     "output_type": "execute_result"
    }
   ],
   "source": [
    "stats.binom.ppf(0.01,192,0.023711) ##n的取值应为lg(\\alpha)/lg(1-p)"
   ]
  },
  {
   "cell_type": "markdown",
   "id": "429f80d1",
   "metadata": {},
   "source": [
    "##\n",
    "\n",
    "##\n",
    "\n",
    "##\n",
    "\n",
    "##\n",
    "\n",
    "##\n",
    "\n",
    "##\n",
    "\n",
    "##\n",
    "\n",
    "##\n",
    "\n",
    "##\n",
    "\n",
    "##\n",
    "\n",
    "##\n",
    "\n",
    "##\n",
    "\n",
    "##\n",
    "\n",
    "##\n",
    "\n",
    "##\n",
    "\n",
    "##\n",
    "\n",
    "##\n",
    "\n",
    "##\n",
    "\n",
    "##\n",
    "\n",
    "##\n",
    "\n",
    "\n",
    "\n",
    "\n",
    "\n",
    "\n",
    "\n",
    "\n",
    "\n",
    "\n",
    "\n",
    "\n",
    "\n",
    "\n",
    "\n",
    "\n",
    "\n",
    "\n",
    "\n",
    "\n",
    "\n",
    "\n",
    "\n",
    "\n",
    "\n",
    "\n",
    "\n",
    "\n",
    "\n",
    "\n",
    "\n",
    "\n",
    "\n",
    "\n",
    "\n",
    "\n",
    "\n",
    "\n",
    "## 小结\n",
    "1.在需要达到更高伤害的时候(超过一定范围),并且双暴较高时，攻击次数不多时，降低暴击 增加暴伤（不变其他条件） 可以以更高的概率达到目标伤害.\n",
    "\n",
    "2.深渊有些时候要凹是有意义的，但是还是请提升练度（"
   ]
  },
  {
   "cell_type": "code",
   "execution_count": 130,
   "id": "c114f8a5",
   "metadata": {},
   "outputs": [],
   "source": [
    "?stats.binom"
   ]
  },
  {
   "cell_type": "code",
   "execution_count": 10,
   "id": "252849b0",
   "metadata": {},
   "outputs": [],
   "source": [
    "?px.line"
   ]
  }
 ],
 "metadata": {
  "kernelspec": {
   "display_name": "Python 3 (ipykernel)",
   "language": "python",
   "name": "python3"
  },
  "language_info": {
   "codemirror_mode": {
    "name": "ipython",
    "version": 3
   },
   "file_extension": ".py",
   "mimetype": "text/x-python",
   "name": "python",
   "nbconvert_exporter": "python",
   "pygments_lexer": "ipython3",
   "version": "3.9.13"
  }
 },
 "nbformat": 4,
 "nbformat_minor": 5
}
